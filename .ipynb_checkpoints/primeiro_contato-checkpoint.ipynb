{
 "cells": [
  {
   "cell_type": "markdown",
   "metadata": {},
   "source": [
    "#### WORKSHOP\n",
    "# Primeiro Contato com Programação"
   ]
  },
  {
   "cell_type": "markdown",
   "metadata": {},
   "source": [
    "![woman programming](img/woman_programming.jpg)"
   ]
  },
  {
   "cell_type": "markdown",
   "metadata": {},
   "source": [
    "![gsg logo](img/logo_gsg.jpg)"
   ]
  },
  {
   "cell_type": "markdown",
   "metadata": {},
   "source": [
    "#### Ambiente de Programação\n",
    "# Jupyter Notebook"
   ]
  },
  {
   "cell_type": "markdown",
   "metadata": {},
   "source": [
    "![jupyter logo](img/teste.png)"
   ]
  },
  {
   "cell_type": "markdown",
   "metadata": {},
   "source": [
    "\n",
    "* Estamos utilizando um aplicativo chamado Jupyter Notebooks. \n",
    "* Ele serve para prototipagem de códigos. Você pode ver o resultado de cada trecho do seu codigo de maneira rápida.\n",
    "* Muito usado em Ciência de Dados, mas não é usado em desenvolvimento de software, em geral\n",
    "\n",
    "**Porque estamos usando Jupyter?**  \n",
    "1) É fácil de usar e rápido de aprender: foco no código e não na ferramenta  \n",
    "2) Não precisa instalar nada e funciona em qualquer Sistema Operacional  \n",
    "\n",
    "**Tire proveito do Notebook, ele é seu!**  \n",
    "* Ao longo da aula, você **DEVE ALTERAR O QUE QUISER** nos código e fazer testes.  \n",
    "* **FUTRICAR** em código é uma maneira excelente de aprender como ele funciona. \n",
    "* Você pode baixar esse arquivo pra você. Fique à vontade para fazer anotações!\n"
   ]
  },
  {
   "cell_type": "markdown",
   "metadata": {},
   "source": [
    "![modulo1](img/1.png)"
   ]
  },
  {
   "cell_type": "markdown",
   "metadata": {},
   "source": [
    "## Usando o Jupyter"
   ]
  },
  {
   "cell_type": "markdown",
   "metadata": {},
   "source": [
    "### 1) Ativando e inativando células\n",
    "* Um notebook é composto de células \n",
    "* Uma célula pode estar ativa (BORDA VERDE) ou inativa (BORDA AZUL)\n",
    "  \n",
    "**Exercício!**  \n",
    "1) Selecione a célula abaixo (mova a seta pra baixo)   \n",
    "2) Ative a célula (tecla Enter)  \n",
    "2) Inative a célula (apertando ESC)"
   ]
  },
  {
   "cell_type": "markdown",
   "metadata": {},
   "source": [
    "texto exemplo"
   ]
  },
  {
   "cell_type": "markdown",
   "metadata": {},
   "source": [
    "### 2) Tipos de célula\n",
    "* São 2 tipos de célula: de texto e de código  \n",
    "* O tipo eh indicado de 2 formas: \n",
    "    * No menu superior, abaixo de \"widgets\" e \"help\"\n",
    "    * Células e código tem \"in[ ]:\". Se não tem, a célula é de texto\n",
    "  \n",
    "**Exercício!**  \n",
    "1) A primeira célula abaixo é de texto. Selecione, mas não ative a célula.  \n",
    "2) Converta-a para uma célula de código (tecla Y)  \n",
    "3) A segunda célula é de código. Transforme a célula para texto (tecla M)  "
   ]
  },
  {
   "cell_type": "markdown",
   "metadata": {},
   "source": []
  },
  {
   "cell_type": "code",
   "execution_count": null,
   "metadata": {},
   "outputs": [],
   "source": []
  },
  {
   "cell_type": "markdown",
   "metadata": {},
   "source": [
    "![modulo1](img/2.png)"
   ]
  },
  {
   "cell_type": "markdown",
   "metadata": {},
   "source": [
    "## Finalmente, Python"
   ]
  },
  {
   "cell_type": "markdown",
   "metadata": {
    "slideshow": {
     "slide_type": "-"
    }
   },
   "source": [
    "## Representando dados na memória\n",
    "\n"
   ]
  },
  {
   "cell_type": "code",
   "execution_count": null,
   "metadata": {
    "slideshow": {
     "slide_type": "slide"
    }
   },
   "outputs": [],
   "source": [
    "# Execute essa célula com Ctrl + Enter\n",
    "# O que voce acha que aparecer na tela?\n",
    "\n",
    "print (\"Soma:\", 2+10)\n",
    "print (\"Subtração:\", 5+2)\n",
    "print (\"Produto:\", 2*3)\n",
    "print (\"Divisão:\", 4/2)\n",
    "\n",
    "print (\"Divisão inteira:\", 10//3)\n",
    "print (\"Resto da divisão:\", 10%3)\n",
    "print (\"Exponenciação:\", 2**3)\n"
   ]
  },
  {
   "cell_type": "markdown",
   "metadata": {},
   "source": [
    "**Variáveis**\n",
    "* O problema é que perdemos o resultado das contas\n",
    "* Para utilizar o resultado das operações, precisamos armazená-los antes de utilizar\n",
    "* Para isso, usamos o que chamamos de **variáveis**\n",
    "* Para criar uma variável, basta escrever seu nome e atribuir algum valor"
   ]
  },
  {
   "cell_type": "code",
   "execution_count": null,
   "metadata": {},
   "outputs": [],
   "source": [
    "# Lembre-se de brincar com o código\n",
    "\n",
    "idade = 30           # Criamos uma variável do chamada idade e atribuímos o valor 30\n",
    "print (idade)        # É possível imprimir o conteúdo da variável na tela\n",
    "\n",
    "idade = idade + 10   # Atualizando o valor da variável \n",
    "print (idade)        # O que você que vai ser impresso na tela?\n",
    "\n",
    "idade = 10           # Alterando completamente o valor da variável\n",
    "print (idade)"
   ]
  },
  {
   "cell_type": "markdown",
   "metadata": {},
   "source": [
    "**Nomes de variáveis têm alguma regrinhas:**  \n",
    "* Maiúsculas e minúsculas são diferentes\n",
    "    * variavel e Variavel são diferentes\n",
    "* Nomes compostos podem ser formados assim:\n",
    "    * nomeComposto\n",
    "    * nome_composto"
   ]
  },
  {
   "cell_type": "markdown",
   "metadata": {},
   "source": [
    "<h4>Sua vez!</h4>\n",
    "Vamos calcular o imc, índice de massa corporal. Crie variáveis para armazenar peso, altura e imc\n",
    "Imprima o valor da variavel \"imc\" na tela\n",
    "\n",
    "$$imc = \\frac{peso}{altura^2}$$"
   ]
  },
  {
   "cell_type": "code",
   "execution_count": null,
   "metadata": {},
   "outputs": [],
   "source": [
    "# Escreva seu código nessa célula\n",
    "# casa decimais devem ser separadas com ponto\n",
    "\n",
    "\n",
    "\n",
    "\n",
    "\n",
    "\n",
    "\n"
   ]
  },
  {
   "cell_type": "markdown",
   "metadata": {},
   "source": [
    "![modulo1](img/3.png)"
   ]
  },
  {
   "cell_type": "markdown",
   "metadata": {},
   "source": [
    "## Trabalhando com texto\n",
    "* Além de números também podemos trabalhar com caracteres e sequências de caracteres\n",
    "* Uma sequência de caracteres é chamada de <strong>STRING</strong>.\n",
    "* Em computação, caracteres não são apenas letras. Podem ser letras, números, espaço, caracteres especiais...\n",
    "* Por isso, uma string pode ser uma palavra, uma frase, um CPF.."
   ]
  },
  {
   "cell_type": "code",
   "execution_count": null,
   "metadata": {},
   "outputs": [],
   "source": [
    "texto = \"Oi, eu sou uma string =D\"   # Precisamos colocar aspas para indicar que queremos trabalhar com uma string\n",
    "print (texto)\n",
    "\n",
    "texto = \"42\" \n",
    "print (texto)"
   ]
  },
  {
   "cell_type": "markdown",
   "metadata": {},
   "source": [
    "**Concatenando strings**  \n",
    "* Concatenar é \"colar\" uma string após a outra"
   ]
  },
  {
   "cell_type": "code",
   "execution_count": null,
   "metadata": {},
   "outputs": [],
   "source": [
    "nome = \"Maria\"\n",
    "sobrenome = \"do Carmo\"\n",
    "\n",
    "# Observe que estamos concatenando um espaço também\n",
    "nome_completo = nome + \" \" + sobrenome  \n",
    "print(nome_completo)"
   ]
  },
  {
   "cell_type": "markdown",
   "metadata": {},
   "source": [
    "**Acessando caracteres**\n",
    "* Como a string é uma sequência de caracteres, podemos acessar individualmente cada um deles\n",
    "* Em computação, toda série de dados recebe um endereço numérico, que começa em 0"
   ]
  },
  {
   "cell_type": "markdown",
   "metadata": {},
   "source": [
    "![array](img/array.gif)"
   ]
  },
  {
   "cell_type": "code",
   "execution_count": null,
   "metadata": {},
   "outputs": [],
   "source": [
    "string = \"casa\"\n",
    "\n",
    "# Colocamos entre [ ] o índice do caractere que queremos acessar\n",
    "# O que você acha que vai ser impresso?\n",
    "print(string[0])\n",
    "print(string[1])\n",
    "print(string[2])\n",
    "print(string[3])"
   ]
  },
  {
   "cell_type": "markdown",
   "metadata": {},
   "source": [
    "**Repartindo strings**  \n",
    "* Também podemos querer separar um pedaço da string\n",
    "* Para isso, precisamos dizer ao programa o intervalo da string que queremos acessar\n",
    "* Utilizamos novamente os índices para fazer isso"
   ]
  },
  {
   "cell_type": "code",
   "execution_count": null,
   "metadata": {},
   "outputs": [],
   "source": [
    "# O intervalo [0:4] significa: comece no 0, pare LOGO ANTES do índice 4\n",
    "nome_completo = \"João das Dores\"\n",
    "nome = nome_completo[0:4]\n",
    "print(nome)\n",
    "\n",
    "# Se deixarmos o segundo parâmetro em branco, o programa lerá até o final da string\n",
    "sobrenome = nome_completo[5:]\n",
    "print(sobrenome)"
   ]
  },
  {
   "cell_type": "markdown",
   "metadata": {},
   "source": [
    "<h4>Agora é sua vez!</h4>\n",
    "Escreva um programa que separe a palavra JOIO de dentro da string \"trigotrigotrigojoiotrigo\""
   ]
  },
  {
   "cell_type": "code",
   "execution_count": null,
   "metadata": {},
   "outputs": [],
   "source": [
    "texto =\"trigotrigotrigojoiotrigo\"\n",
    "\n",
    "joio = \n",
    "print (joio)\n"
   ]
  },
  {
   "cell_type": "markdown",
   "metadata": {},
   "source": [
    "![modulo1](img/4.png)"
   ]
  },
  {
   "cell_type": "markdown",
   "metadata": {},
   "source": [
    "## Recebendo informações da usuária"
   ]
  },
  {
   "cell_type": "markdown",
   "metadata": {},
   "source": [
    "**Função input( )**\n",
    "* Para nosso programa ficar mais interessante, podemos solicitar que o usuário digite as entradas do programa.\n",
    "* Para isso, usamos a função input"
   ]
  },
  {
   "cell_type": "code",
   "execution_count": null,
   "metadata": {
    "scrolled": true
   },
   "outputs": [],
   "source": [
    "# Rode esse código\n",
    "entrada = input()\n",
    "print (entrada) "
   ]
  },
  {
   "cell_type": "code",
   "execution_count": null,
   "metadata": {},
   "outputs": [],
   "source": [
    "# Também podemos colocar um texto para o usuário visualizar\n",
    "entrada = input(\"Digite um numero \")\n",
    "print (entrada) "
   ]
  },
  {
   "cell_type": "markdown",
   "metadata": {},
   "source": [
    "**Convertendo para o tipo desejado** \n",
    "* Mas temos que ter atenção! \n",
    "* A funcao input recebe o que o usuário digita e te entrega uma STRING"
   ]
  },
  {
   "cell_type": "code",
   "execution_count": null,
   "metadata": {
    "scrolled": true
   },
   "outputs": [],
   "source": [
    "# O codigo abaixo demonstra que o número recebido pela função input() \n",
    "# não armazena um número, mas sim, uma string\n",
    "\n",
    "nao_eh_numero = input(\"Digite um numero \")\n",
    "print ( type(nao_eh_numero))    # A função type verifica o tipo da variável\n",
    "\n",
    "# Quando temos funções aninhadas, a execução é de dentro pra fora\n",
    "# Primeiro, roda a função input, depois, a conversão"
   ]
  },
  {
   "cell_type": "code",
   "execution_count": null,
   "metadata": {},
   "outputs": [],
   "source": [
    "# Por isso, sempre precisamos dizer ao Python qual o tipo de dados que realmente queremos\n",
    "\n",
    "inteiro = int ( input(\"Digite um numero \") ) # Transforma em um numero inteiro\n",
    "print ( type(inteiro) )\n",
    "\n",
    "real = float ( input(\"Digite um numero \") ) # Transforma em um numero real (com casa decimal)\n",
    "print ( type(real) )\n"
   ]
  },
  {
   "cell_type": "markdown",
   "metadata": {},
   "source": [
    "**Sua vez!** \n",
    "* Vamos melhorar o programa que calcula imc"
   ]
  },
  {
   "cell_type": "code",
   "execution_count": null,
   "metadata": {},
   "outputs": [],
   "source": [
    "# Complete o código abaixo para receber a informação da usuária\n",
    "# Lembre-se de transformar a entrada em um  número real\n",
    "peso = \n",
    "altura = \n",
    "\n",
    "# Calcule e apresente o imc da usuária\n",
    "# Insira seu codigo aqui\n",
    "\n",
    "\n",
    "print(\"Seu imc é: \", imc)\n"
   ]
  },
  {
   "cell_type": "markdown",
   "metadata": {},
   "source": [
    "![modulo1](img/5.png)"
   ]
  },
  {
   "cell_type": "markdown",
   "metadata": {},
   "source": [
    "## Comandos condicionais\n",
    "* Às vezes, queremos que o nosso programa tome decisões.\n",
    "* Fazemos isso com os **comandos condicionais**.\n",
    "* O principal comando é o **if**\n",
    "* \"if\" significa \"se\", do inglês"
   ]
  },
  {
   "cell_type": "code",
   "execution_count": null,
   "metadata": {},
   "outputs": [],
   "source": [
    "# if (condicao):\n",
    "#    comando1\n",
    "#    comando2"
   ]
  },
  {
   "cell_type": "markdown",
   "metadata": {},
   "source": [
    "Em psedocódigo, seria algo como"
   ]
  },
  {
   "cell_type": "code",
   "execution_count": null,
   "metadata": {},
   "outputs": [],
   "source": [
    "# Se (isso): \n",
    "#    então aquilo"
   ]
  },
  {
   "cell_type": "markdown",
   "metadata": {},
   "source": [
    "* Precisamos dizer ao programa sob qual condição aquele bloco de código deve rodar\n",
    "* O bloco de código immediatamente abaixo do \"if\" só é executado se a resposta da condição for SIM\n",
    "* Por isso, as condições devem ser sempre **perguntas de sim ou não**\n"
   ]
  },
  {
   "cell_type": "markdown",
   "metadata": {},
   "source": [
    "**O que vai ser impresso na célula abaixo?**"
   ]
  },
  {
   "cell_type": "code",
   "execution_count": 2,
   "metadata": {},
   "outputs": [
    {
     "name": "stdout",
     "output_type": "stream",
     "text": [
      "Sim 1\n",
      "Sim 3\n",
      "Sim 5\n"
     ]
    }
   ],
   "source": [
    "if (3 < 5):        \n",
    "    print (\"Sim 1\")\n",
    "# 3 é menor do que 5?\n",
    "\n",
    "\n",
    "if(10 < 5):\n",
    "    print (\"Sim 2\")\n",
    "# 10 é menor do que 5?\n",
    "\n",
    "\n",
    "if(2 != 0):\n",
    "    print (\"Sim 3\")\n",
    "# 2 é diferente de 0?\n",
    "\n",
    "\n",
    "if(2 == 0):\n",
    "    print (\"Sim 4\")\n",
    "# 2 é diferente de 0?\n",
    "\n",
    "\n",
    "if(10+2 == 12):\n",
    "    print (\"Sim 5\")\n",
    "# 10 + 2 é exatamente igual a 12?"
   ]
  },
  {
   "cell_type": "markdown",
   "metadata": {},
   "source": [
    "**Identação**\n",
    "* Reparou que o bloco dentro do IF está levemente afastado da borda esquerda?\n",
    "* O nome disso é IDENTAÇÃO e indica para o programa a hierarquia entre as linhas de código\n",
    "* Identamos com TAB (Também é possível identar com 4 espaços)"
   ]
  },
  {
   "cell_type": "markdown",
   "metadata": {},
   "source": [
    "**Tente rodar o código abaixo**"
   ]
  },
  {
   "cell_type": "code",
   "execution_count": null,
   "metadata": {},
   "outputs": [],
   "source": [
    "# Isso aqui funciona\n",
    "numero = 2\n",
    "if(numero != 0):         \n",
    "    print (\"Sim\")\n",
    "\n",
    "# Isso aqui não funciona\n",
    "if(3 != 0):\n",
    "print (\"Sim\")\n",
    "\n",
    "# Corrija o trecho de código acima para que funcione corretamente\n"
   ]
  },
  {
   "cell_type": "markdown",
   "metadata": {},
   "source": [
    "**Agora é a sua vez!**\n",
    "* Complete o código abaixo para imprimir a mensagem de forma coerente"
   ]
  },
  {
   "cell_type": "code",
   "execution_count": null,
   "metadata": {},
   "outputs": [],
   "source": [
    "saldo_conta_corrente = 1200\n",
    "saldo_conta_poupanca = 500\n",
    "\n",
    "if():\n",
    "    print(\"O saldo da poupanca é menor que o da conta corrente\")"
   ]
  },
  {
   "cell_type": "markdown",
   "metadata": {},
   "source": [
    "![modulo1](img/6.png)"
   ]
  },
  {
   "cell_type": "markdown",
   "metadata": {},
   "source": [
    "## if - else\n",
    "* Mas e se quisermos que algum codigo rode somente quando a resposta for NÃO?\n",
    "* Usamos o \"else\""
   ]
  },
  {
   "cell_type": "code",
   "execution_count": null,
   "metadata": {},
   "outputs": [],
   "source": [
    "# Em psedocódigo, seria algo como\n",
    "\n",
    "# Se (isso): \n",
    "#     então aquilo\n",
    "# Senão:\n",
    "#     então aquilo outro"
   ]
  },
  {
   "cell_type": "code",
   "execution_count": null,
   "metadata": {},
   "outputs": [],
   "source": [
    "# Observe como a dupla \"if - else\" bifurca o código, garantido que apenas um dos caminhos seja executado\n",
    "# Observe também que, para o 'else', não precisamos estabelecer uma condição. \n",
    "    #Aquele trecho de código vai rodar SEMPRE que o 'if' tiver NÃO como resposta\n",
    "\n",
    "if(2 == 0):         # 2 é exatamente igual a 0?     \n",
    "    print (\"Sim\")      # Se sim, imprime 'Sim'\n",
    "else:               # Se não,\n",
    "    print(\"Não\")       # Imprime 'Não'\n",
    "\n"
   ]
  },
  {
   "cell_type": "code",
   "execution_count": null,
   "metadata": {},
   "outputs": [],
   "source": [
    "# Exemplo\n",
    "\n",
    "numero = 75.5\n",
    "\n",
    "if(numero <= 0):                                   # A variável 'numero' guarda um valor menor que 0?\n",
    "    print(\"Você digitou um número negativo ou 0\")       # Se sim, imprime essa frase\n",
    "else:                                              # Se não,\n",
    "    print(\"Você digitou um numero positivo\")           # Imprime essa outra frase\n",
    "\n"
   ]
  },
  {
   "cell_type": "code",
   "execution_count": null,
   "metadata": {},
   "outputs": [],
   "source": [
    "# Exemplo com string\n",
    "\n",
    "local = \"trabalho\"\n",
    "\n",
    "if(local == \"casa\"):                         # a variável 'local' guarda a string \"casa\"?\n",
    "    print(\"Estou em casa\")                      # Se sim, imprime essa frase\n",
    "else:                                        # Se não,\n",
    "    print(\"Estou em qualquer outro lugar\")      # Imprime essa outra frase\n",
    "\n"
   ]
  },
  {
   "cell_type": "code",
   "execution_count": null,
   "metadata": {},
   "outputs": [],
   "source": [
    "# Podemos fazer perguntas cada vez mais elaboradas\n",
    "\n",
    "numero = 12\n",
    "\n",
    "if(numero % 3 == 0):                # O resto da divisão de 'numero' por 3 resulta em 0?\n",
    "    print(\"É divisível por 3\")          # Se sim, imprime essa frase\n",
    "else:                               # Se não,\n",
    "    print(\"Não é divisível por 3\")      # Imprime essa outra frase\n",
    "\n"
   ]
  },
  {
   "cell_type": "markdown",
   "metadata": {},
   "source": [
    "<h4>Sua vez!</h4>\n",
    "Vamos criar um programa que decide se um número é par ou ímpar\n",
    "<br>Dica: um número é par quando o resto da divisão por 2 é igual a 0"
   ]
  },
  {
   "cell_type": "code",
   "execution_count": null,
   "metadata": {},
   "outputs": [],
   "source": [
    "numero = 25\n",
    "\n",
    "if():\n",
    "    print(\"O número é par\")\n",
    "else:\n",
    "    print(\"O número é ímpar\")\n",
    "    "
   ]
  },
  {
   "cell_type": "markdown",
   "metadata": {},
   "source": [
    "<h4>Sua vez!</h4>\n",
    "Temos um quantidade de balinhas e queremos dividir entre as crianças.\n",
    "Vamos fazer um programinha que decide se é possível fazer uma divisão igual sem sobrar balas (ou seja, a divisão deve ter resto 0)"
   ]
  },
  {
   "cell_type": "code",
   "execution_count": null,
   "metadata": {},
   "outputs": [],
   "source": [
    "# O que esse trecho de código faz?\n",
    "criancas = int ( input(\"Quantas criancas? \") )\n",
    "balinhas = int ( input(\"Quantas balinhas? \") )\n",
    "\n",
    "# complete a linha de código abaixo\n",
    "divisao = \n",
    "print (divisao)\n",
    "\n",
    "# Preencha uma condição que retorne SIM como resposta\n",
    "if():\n",
    "    print(\"É possivel dividir as balinhas =)\")\n",
    "else:\n",
    "    print (\"Não é possível =(\")\n"
   ]
  },
  {
   "cell_type": "markdown",
   "metadata": {},
   "source": [
    "![modulo1](img/7.png)"
   ]
  },
  {
   "cell_type": "markdown",
   "metadata": {},
   "source": [
    "## elif: testando mais de duas condições\n",
    "* Quando queremos testar mais do que duas condições, vamos utilizar o \"elif\"\n",
    "* \"elif\" é um diminutivo para \"else, if\""
   ]
  },
  {
   "cell_type": "code",
   "execution_count": null,
   "metadata": {},
   "outputs": [],
   "source": [
    "# Observe como o elif vários cria caminhos possíveis. Apenas um desses caminhos será executado\n",
    "\n",
    "\n",
    "numero = -25\n",
    "\n",
    "if(numero < 0):                                                  # 'numero' é menor que 0?\n",
    "    print(\"Você digitou um número negativo\")                          # se sim, imprima isso\n",
    "elif(numero == 0):                                               # Se não, 'numero' é exatamente igual a 0?\n",
    "    print(\"Você digitou 0, que não é positivo nem negativo\")          #  se sim, imprima isso\n",
    "else:                                                            # Se não,\n",
    "    print(\"Você digitou um numero positivo ou 0\")                     # imprima isso\n",
    "    "
   ]
  },
  {
   "cell_type": "code",
   "execution_count": null,
   "metadata": {},
   "outputs": [],
   "source": [
    "# Você pode criar quantos caminhos alternativos forem necessários\n",
    "\n",
    "idade = 24\n",
    "\n",
    "if(idade <=17):                      # 'idade' é menor ou igual a 17?\n",
    "    print(\"Menor de idade\")              # se sim, imprima isso\n",
    "elif(idade > 17 and idade <= 24):    # Se não, 'idade' é maior que 17 E menor ou igual a 24?\n",
    "    print(\"Jovem adulto\")                # se sim, imprima isso\n",
    "elif(idade > 24 and idade <= 59):    # Se não, idade é maio que 24 E menor ou igual a 59?\n",
    "    print(\"Adulto\")                      # se sim, imprima isso\n",
    "elif(idade > 59):                    # Se não, 'idade' é maior que 59?\n",
    "    print(\"Idoso\")                       # se sim, imprima isso\n",
    "    "
   ]
  },
  {
   "cell_type": "code",
   "execution_count": null,
   "metadata": {},
   "outputs": [],
   "source": [
    "# RESUMO DAS PERGUNTAS LÓGICAS\n",
    "# == : é exatamente igual?\n",
    "# != : é diferente?\n",
    "# >  : é maior que?\n",
    "# <  : é menor que?\n",
    "# >= : é maior ou igual?\n",
    "# <= : é menor ou igual?\n",
    "# and: E (Atende às duas condições ao mesmo tempo?)\n",
    "# or : OU (Atende a pelo menos uma das condições?)"
   ]
  },
  {
   "cell_type": "markdown",
   "metadata": {},
   "source": [
    "<h4> Agora é sua vez!</h4>\n",
    "Crie um programa que leia um salário e retorne a faixa de imposto que ela irá pagar\n",
    "<br>Faixas de imposto:\n",
    "<ul>\n",
    "<li>Salário menor ou igual a 1000.00: \"Imposto de 10%\"\n",
    "<li>Salário mair do que 1000.00 E menor ou igual a  12000.00: \"Imposto de 20%\"\n",
    "<li>Salário maior do que 12000.00: \"Imposto de 30%\"\n",
    "</ul>"
   ]
  },
  {
   "cell_type": "code",
   "execution_count": null,
   "metadata": {},
   "outputs": [],
   "source": [
    "# Escreva seu código aqui\n",
    "\n",
    "\n",
    "\n",
    "\n",
    "\n",
    "\n",
    "\n",
    "\n",
    "\n"
   ]
  },
  {
   "cell_type": "markdown",
   "metadata": {},
   "source": [
    "![modulo1](img/8.png)"
   ]
  },
  {
   "cell_type": "markdown",
   "metadata": {},
   "source": [
    "## Listas: Um jeito melhor de guardar dados na memória</h2>"
   ]
  },
  {
   "cell_type": "markdown",
   "metadata": {},
   "source": [
    "* Imagine um programa realmente grande. \n",
    "* É inviável criarmos uma variável para cada informação que precisarmos em um programa. \n",
    "* Por isso, existem formas de agrupar os dados. \n",
    "* A principal forma de agruparmos dados em Python são as listas. \n",
    "* Listas são declaradas exatamente como variáveis, mas admitem guardar tantos elementos quantos você queira"
   ]
  },
  {
   "cell_type": "code",
   "execution_count": null,
   "metadata": {},
   "outputs": [],
   "source": [
    "dia = ['Segunda', 'Terça', 'Quarta', 'Quinta', 'Sexta', 'Sábado', 'Domingo']\n",
    "\n",
    "# Todos os dados têm o mesmo nome: dia.\n",
    "# Da mesma forma que vimos com strings, cada dado tem um endereço que começa com 0\n",
    "\n",
    "# Utilize o espaço abaixo para imprimir na tela o seu dia favorito da semana\n",
    "\n",
    "\n",
    "\n",
    "\n",
    "\n",
    "\n",
    "\n",
    "\n"
   ]
  },
  {
   "cell_type": "markdown",
   "metadata": {},
   "source": [
    "<h4>Acrescentando e removendo itens na sua lista</h4>\n",
    "É muito comum precisarmos realizar alterações no nosso programa. Por exemplo: se ficasse decidido que o final de semana agora terá 3 dias! Precisamos incluir esse dia na nossa lista."
   ]
  },
  {
   "cell_type": "code",
   "execution_count": null,
   "metadata": {},
   "outputs": [],
   "source": [
    "# O comando 'append' inclui itens ao final da nossa lista\n",
    "# Para utilizá-lo, escrevemos: nomeLista.append()\n",
    "\n",
    "dia = [\"Segunda\", \"Terça\", \"Quarta\", \"Quinta\", \"Sexta\", \"Sábado\", \"Domingo\"]\n",
    "print(dia)\n",
    "\n",
    "dia.append('Domingaço')\n",
    "print(dia)"
   ]
  },
  {
   "cell_type": "code",
   "execution_count": null,
   "metadata": {},
   "outputs": [],
   "source": [
    "# Para melhorar ainda mais a nossa vida, revogaram a segunda!\n",
    "# Para atualizar nosso programa, vamos usar o comando 'remove'\n",
    "\n",
    "dia.remove(\"Segunda\")\n",
    "print(dia)"
   ]
  },
  {
   "cell_type": "code",
   "execution_count": null,
   "metadata": {},
   "outputs": [],
   "source": [
    "# O comando 'append' insere itens ao final da lista\n",
    "# Para inserir um item em qualquer posição, usamos o 'insert'\n",
    "# Vamos re-colocar a segunda\n",
    "\n",
    "dia.insert(0, \"Segunda\")  # Insere na posição 0\n",
    "print(dia)"
   ]
  },
  {
   "cell_type": "markdown",
   "metadata": {},
   "source": [
    "<h4>Sua Vez!</h4>\n",
    "Crie uma lista com os nomes das pessoas da sua família\n",
    "<br> Alguém vai ter neném! Insira na lista o nome da nova criança em qualquer posição que você desejar\n",
    "<br>Imprima a lista"
   ]
  },
  {
   "cell_type": "code",
   "execution_count": null,
   "metadata": {},
   "outputs": [],
   "source": [
    "# Insira seu código aqui\n",
    "\n",
    "\n",
    "\n",
    "\n",
    "\n",
    "\n",
    "\n"
   ]
  },
  {
   "cell_type": "markdown",
   "metadata": {},
   "source": [
    "![modulo1](img/9.png)"
   ]
  },
  {
   "cell_type": "markdown",
   "metadata": {},
   "source": [
    "## Comandos de Repetição"
   ]
  },
  {
   "cell_type": "markdown",
   "metadata": {},
   "source": [
    "* Um dos comandos que mais facilitam nossa vida são os comandos de repetição\n",
    "* Eles fazem com que um trecho de código seja repetido quantas vezes desejarmos\n",
    "* O principal comando em quase todas as linguagens é o \"for\", do inglês, \"para\""
   ]
  },
  {
   "cell_type": "code",
   "execution_count": null,
   "metadata": {},
   "outputs": [],
   "source": [
    "fruta = ['Maçã', 'Limão', 'Laranja']\n",
    "\n",
    "for item in fruta:\n",
    "    print(item)"
   ]
  },
  {
   "cell_type": "code",
   "execution_count": null,
   "metadata": {},
   "outputs": [],
   "source": [
    "# O que está acontecendo no código acima é o seguinte:\n",
    "# PARA cada dado da lista\n",
    "    # A variável 'item' recebe o dado e o imprime\n",
    "\n",
    "# Quando a lista acaba, o laço de repetição termina"
   ]
  },
  {
   "cell_type": "code",
   "execution_count": null,
   "metadata": {},
   "outputs": [],
   "source": [
    "# Mas poderíamos ter imprimido a lista sem o FOR, concorda?\n",
    "# Vamos fazer algo mais interessante\n",
    "\n",
    "lista = [1, 2, 3, 4, 5, 6]\n",
    "\n",
    "for item in lista:\n",
    "    print(item+10)\n",
    "    "
   ]
  },
  {
   "cell_type": "code",
   "execution_count": null,
   "metadata": {},
   "outputs": [],
   "source": [
    "# O laço FOR também sabe trabalhar com uma sequência númerica que não esteja em uma lista\n",
    "# Nesse caso, precisamos dizer onde começa e onde terminar o intervalo de números\n",
    "\n",
    "for i in range(1, 6):\n",
    "    print(i)"
   ]
  },
  {
   "cell_type": "code",
   "execution_count": null,
   "metadata": {},
   "outputs": [],
   "source": [
    "# Observe que o número 6 não entra no laço. \n",
    "# O segundo número representa a CONDIÇÃO DE PARADA DO LAÇO\n",
    "# Assim que a variável 'i' assume o valor de 6, o laço não executa e termina"
   ]
  },
  {
   "cell_type": "markdown",
   "metadata": {},
   "source": [
    "<h4>Sua vez!</h4>\n",
    "Crie um programa que imprima na tela todos os números de 1 até 100"
   ]
  },
  {
   "cell_type": "code",
   "execution_count": null,
   "metadata": {},
   "outputs": [],
   "source": [
    "# Escreva seu código aqui\n",
    "\n",
    "\n",
    "\n",
    "\n"
   ]
  },
  {
   "cell_type": "markdown",
   "metadata": {},
   "source": [
    "**Preenchendo uma lista com um laço FOR**\n",
    "* O mais legal de laços de repetição é poder preencher uma lista a partir do input da usuária\n",
    "* Veja abaixo um programa que recebe as notas dos alunos de uma turma de 5 pessoas\n",
    "* Como todos os inputs recebidos são notas, é adequado guardar em uma mesma lista, concorda?"
   ]
  },
  {
   "cell_type": "code",
   "execution_count": null,
   "metadata": {},
   "outputs": [],
   "source": [
    "# Criamos uma lista vazia\n",
    "notas = []   \n",
    "\n",
    "# Laço de repetição para preencher a lista\n",
    "for i in range(1, 6):\n",
    "    print(\"Digite a nota do aluno \", i)\n",
    "    notas.append( float(input()) )      # Recebe o input, converte em float(número com casa decimal), insere ao final da lista\n",
    "\n",
    "print (notas)"
   ]
  },
  {
   "cell_type": "markdown",
   "metadata": {},
   "source": [
    "<h4>Sua vez!</h4>\n",
    "Para entender o que aconteceu no código acima, reescreva o código na célula abaixo, mas dessa vez, peça para a usuária digitar 7 números"
   ]
  },
  {
   "cell_type": "code",
   "execution_count": null,
   "metadata": {},
   "outputs": [],
   "source": [
    "# Escreva seu código aqui\n",
    "\n",
    "\n",
    "\n",
    "\n",
    "\n",
    "\n",
    "\n",
    "\n",
    "\n",
    "\n"
   ]
  },
  {
   "cell_type": "markdown",
   "metadata": {},
   "source": [
    "![modulo1](img/1.png)![modulo1](img/0.png)"
   ]
  },
  {
   "cell_type": "markdown",
   "metadata": {},
   "source": [
    "## Exercícios"
   ]
  },
  {
   "cell_type": "markdown",
   "metadata": {},
   "source": [
    "1) Calcule o perímetro de uma circunferência a partir de seu raio. Lembrando que:\n",
    "$${perimetro = 3.14 *raio^2}$$\n"
   ]
  },
  {
   "cell_type": "code",
   "execution_count": null,
   "metadata": {},
   "outputs": [],
   "source": [
    "\n",
    "\n",
    "\n",
    "\n",
    "\n",
    "\n",
    "\n",
    "\n",
    "\n",
    "\n",
    "\n"
   ]
  },
  {
   "cell_type": "markdown",
   "metadata": {},
   "source": [
    "2) Receba três valores inteiros. Calcule e imprima a média dos valores"
   ]
  },
  {
   "cell_type": "code",
   "execution_count": null,
   "metadata": {},
   "outputs": [],
   "source": [
    "\n",
    "\n",
    "\n",
    "\n",
    "\n",
    "\n",
    "\n",
    "\n",
    "\n",
    "\n",
    "\n"
   ]
  },
  {
   "cell_type": "markdown",
   "metadata": {},
   "source": [
    "3) Receba dois valores inteiros. Imprima o maior deles"
   ]
  },
  {
   "cell_type": "code",
   "execution_count": null,
   "metadata": {},
   "outputs": [],
   "source": [
    "\n",
    "\n",
    "\n",
    "\n",
    "\n",
    "\n",
    "\n",
    "\n",
    "\n",
    "\n",
    "\n",
    "\n",
    "\n"
   ]
  },
  {
   "cell_type": "markdown",
   "metadata": {},
   "source": [
    "4) Crie uma lista vazia\n",
    "<br>Utilize um laço FOR para receber cinco valores do tipo inteiro. \n",
    "<br>Imprima a lista\n",
    "<br>Utilize a funcionalidade lista.sort() que ordena os valores\n",
    "<br>Imprima a lista ordenada"
   ]
  },
  {
   "cell_type": "code",
   "execution_count": null,
   "metadata": {},
   "outputs": [],
   "source": [
    "lista = []\n",
    "\n",
    "\n",
    "\n",
    "\n",
    "\n",
    "\n",
    "\n",
    "\n"
   ]
  },
  {
   "cell_type": "markdown",
   "metadata": {},
   "source": [
    "5) Aproveite o código anterior para criar uma lista vazia e receber cinco valores inteiros.\n",
    "<br>Agora utilize um laço FOR para percorrer a lista e fazer o seguinte:\n",
    "<br>SE o o número for par, imprima o número na tela\n",
    "<br>Caso contrário, não faça nada"
   ]
  },
  {
   "cell_type": "code",
   "execution_count": null,
   "metadata": {},
   "outputs": [],
   "source": [
    "\n",
    "\n",
    "\n",
    "\n",
    "\n",
    "\n",
    "\n"
   ]
  },
  {
   "cell_type": "markdown",
   "metadata": {},
   "source": [
    "![fireworks](img/fireworks.jpeg)"
   ]
  },
  {
   "cell_type": "markdown",
   "metadata": {},
   "source": [
    "# Parabéns! Você completou o Módulo 1 \\o/ \\o/ \\o/\n",
    "\n",
    "Esperamos de coração que você tenha gostado do seu primeiro contato com programação. A equipe do Girl Support Girl está disponível para tirar dúvidas e indicar caminhos para aprendizado contínuo.\n",
    "<br>\n",
    "<h4>Ser boa em programação significa</h4>\n",
    "<ol>\n",
    "<li> Conhecer as ferramentas que a linguagem te oferece \n",
    "<li> Utilizar essas ferramentas para resolver problemas lógicos\n",
    "<li> Não parar porque não sabe resolver um problema. Não se conforme e busque respostas\n",
    "</ol>\n",
    "<h4>Onde buscar respostas</h4>\n",
    "<ul>\n",
    "<li>Na internet: fóruns como StackOverflow são fundamentais para quem programa\n",
    "<li>Na sua rede: Procure as pessoas que podem te ajudar. Nunca tenha vergonha de perguntar\n",
    "<li>Em livros e documentações oficiais das tecnologias que você está aprendendo\n",
    "</ul>\n",
    "\n",
    "<h4>Nos vemos no módulo 2!</h4>"
   ]
  },
  {
   "cell_type": "markdown",
   "metadata": {},
   "source": [
    "Esse curso é uma iniciativa da Girls Support Girls, uma comunidade iniciada por mulheres dos cursos de computação da UFMG.   \n",
    "[site do GSG]\n",
    "\n"
   ]
  }
 ],
 "metadata": {
  "kernelspec": {
   "display_name": "Python 3",
   "language": "python",
   "name": "python3"
  },
  "language_info": {
   "codemirror_mode": {
    "name": "ipython",
    "version": 3
   },
   "file_extension": ".py",
   "mimetype": "text/x-python",
   "name": "python",
   "nbconvert_exporter": "python",
   "pygments_lexer": "ipython3",
   "version": "3.7.3"
  }
 },
 "nbformat": 4,
 "nbformat_minor": 2
}
