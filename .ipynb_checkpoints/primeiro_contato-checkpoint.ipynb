{
 "cells": [
  {
   "cell_type": "markdown",
   "metadata": {},
   "source": [
    "#### WORKSHOP\n",
    "# Primeiro Contato com Programação"
   ]
  },
  {
   "cell_type": "markdown",
   "metadata": {},
   "source": [
    "![woman programming](img/woman_programming.jpg)"
   ]
  },
  {
   "cell_type": "markdown",
   "metadata": {},
   "source": [
    "<img src='https://girls-support-girls.github.io/assets/images/header-gsg.svg'>"
   ]
  },
  {
   "cell_type": "markdown",
   "metadata": {},
   "source": [
    "## Ambiente de Programação"
   ]
  },
  {
   "cell_type": "markdown",
   "metadata": {},
   "source": [
    "<img src='data:image/png;base64,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'>"
   ]
  },
  {
   "cell_type": "markdown",
   "metadata": {},
   "source": [
    "* Estamos utilizando um aplicativo chamado Google Colaboratory. \n",
    "* Ele serve para prototipagem de códigos. Você pode ver o resultado de cada trecho do seu codigo de maneira rápida.\n",
    "* Muito usado em Ciência de Dados, mas não é usado em desenvolvimento de software, em geral\n",
    "* Um aviso: a ordem em que fazemos as coisa importa. Teste não rodar códigos fora de ordem\n",
    "\n",
    "**Porque estamos usando Colab?**  \n",
    "1) É fácil de usar e rápido de aprender: foco no código e não na ferramenta  \n",
    "2) Não precisa instalar nada e funciona em qualquer Sistema Operacional  \n",
    "\n",
    "**Tire proveito do Notebook, ele é seu!**  \n",
    "* Ao longo da aula, você **DEVE ALTERAR O QUE QUISER** nos código e fazer testes.  \n",
    "* **FUTRICAR** em código é uma maneira excelente de aprender como ele funciona. \n",
    "* Você pode baixar esse arquivo pra você. Fique à vontade para fazer anotações!\n"
   ]
  },
  {
   "cell_type": "markdown",
   "metadata": {},
   "source": [
    "<img src='http://icons.iconarchive.com/icons/icons8/windows-8/96/Numbers-1-icon.png'>"
   ]
  },
  {
   "cell_type": "markdown",
   "metadata": {},
   "source": [
    "## Usando o Jupyter"
   ]
  },
  {
   "cell_type": "markdown",
   "metadata": {},
   "source": [
    "### 1) Ativando e inativando células\n",
    "* Um notebook é composto de células \n",
    "* Uma célula pode estar ativa (BORDA VERDE) ou inativa (BORDA AZUL)\n",
    "  \n",
    "**Exercício!**  \n",
    "1) Selecione a célula abaixo (mova a seta pra baixo)   \n",
    "2) Ative a célula (tecla Enter)  \n",
    "2) Inative a célula (apertando ESC)"
   ]
  },
  {
   "cell_type": "markdown",
   "metadata": {},
   "source": [
    "texto exemplo"
   ]
  },
  {
   "cell_type": "markdown",
   "metadata": {},
   "source": [
    "### 2) Tipos de célula\n",
    "* São 2 tipos de célula: de texto e de código  \n",
    "* O tipo eh indicado de 2 formas: \n",
    "    * No menu superior, abaixo de \"widgets\" e \"help\"\n",
    "    * Células de código tem \"in[ ]:\". Se não tem, a célula é de texto\n",
    "  \n",
    "**Exercício!**  \n",
    "1) A primeira célula abaixo é de texto. Selecione, mas não ative a célula.  \n",
    "2) Converta-a para uma célula de código (tecla Y)  \n",
    "3) A segunda célula é de código. Transforme a célula para texto (tecla M)  "
   ]
  },
  {
   "cell_type": "code",
   "execution_count": null,
   "metadata": {},
   "outputs": [],
   "source": []
  },
  {
   "cell_type": "markdown",
   "metadata": {},
   "source": []
  },
  {
   "cell_type": "markdown",
   "metadata": {},
   "source": [
    "<img src='http://icons.iconarchive.com/icons/icons8/windows-8/96/Numbers-2-icon.png'>"
   ]
  },
  {
   "cell_type": "markdown",
   "metadata": {},
   "source": [
    "## Finalmente, Python"
   ]
  },
  {
   "cell_type": "markdown",
   "metadata": {
    "slideshow": {
     "slide_type": "-"
    }
   },
   "source": [
    "## Representando dados na memória\n",
    "\n"
   ]
  },
  {
   "cell_type": "code",
   "execution_count": null,
   "metadata": {
    "slideshow": {
     "slide_type": "slide"
    }
   },
   "outputs": [],
   "source": [
    "# Execute essa célula com Ctrl + Enter\n",
    "# O que voce acha que aparecer na tela?\n",
    "\n",
    "print (\"Soma:\", 2+10)\n",
    "print (\"Subtração:\", 5+2)\n",
    "print (\"Produto:\", 2*3)\n",
    "print (\"Divisão:\", 4/2)\n",
    "\n",
    "print (\"Divisão inteira:\", 10//3)\n",
    "print (\"Resto da divisão:\", 10%3)\n",
    "print (\"Exponenciação:\", 2**3)\n"
   ]
  },
  {
   "cell_type": "markdown",
   "metadata": {},
   "source": [
    "**Variáveis**\n",
    "* O problema é que perdemos o resultado das contas\n",
    "* Para utilizar o resultado das operações, precisamos armazená-los antes de utilizar\n",
    "* Para isso, usamos o que chamamos de **variáveis**\n",
    "* Para criar uma variável, basta escrever seu nome e atribuir algum valor"
   ]
  },
  {
   "cell_type": "code",
   "execution_count": null,
   "metadata": {},
   "outputs": [],
   "source": [
    "# Lembre-se de brincar com o código\n",
    "\n",
    "idade = 30           # Criamos uma variável chamada idade e atribuímos o valor 30\n",
    "print (idade)        # É possível imprimir o conteúdo da variável na tela\n",
    "\n",
    "idade = idade + 10   # Atualizando o valor da variável \n",
    "print (idade)        # O que você acha que vai ser impresso na tela?\n",
    "\n",
    "idade = 10           # Alterando completamente o valor da variável\n",
    "print (idade)"
   ]
  },
  {
   "cell_type": "markdown",
   "metadata": {},
   "source": [
    "**Nomes de variáveis têm alguma regrinhas:**  \n",
    "* Maiúsculas e minúsculas são diferentes\n",
    "    * variavel e Variavel são diferentes\n",
    "* Nomes compostos podem ser formados assim:\n",
    "    * nomeComposto\n",
    "    * nome_composto"
   ]
  },
  {
   "cell_type": "markdown",
   "metadata": {},
   "source": [
    "<h4>Sua vez!</h4>\n",
    "Vamos calcular o imc, índice de massa corporal. Crie variáveis para armazenar peso, altura e imc\n",
    "Imprima o valor da variavel \"imc\" na tela\n",
    "\n",
    "$$imc = \\frac{peso}{altura^2}$$"
   ]
  },
  {
   "cell_type": "code",
   "execution_count": null,
   "metadata": {},
   "outputs": [],
   "source": [
    "# Escreva seu código nessa célula\n",
    "# casa decimais devem ser separadas com ponto\n",
    "\n",
    "\n",
    "\n",
    "\n",
    "\n",
    "\n",
    "\n"
   ]
  },
  {
   "cell_type": "markdown",
   "metadata": {},
   "source": [
    "<img src='http://icons.iconarchive.com/icons/icons8/windows-8/96/Numbers-3-icon.png'>"
   ]
  },
  {
   "cell_type": "markdown",
   "metadata": {},
   "source": [
    "## Trabalhando com texto\n",
    "* Além de números também podemos trabalhar com caracteres e sequências de caracteres\n",
    "* Uma sequência de caracteres é chamada de <strong>STRING</strong>.\n",
    "* Em computação, caracteres não são apenas letras. Podem ser letras, números, espaço, caracteres especiais...\n",
    "* Por isso, uma string pode ser uma palavra, uma frase, um CPF.."
   ]
  },
  {
   "cell_type": "code",
   "execution_count": null,
   "metadata": {},
   "outputs": [],
   "source": [
    "texto = \"Oi, eu sou uma string =D\"   # Precisamos colocar aspas para indicar que queremos trabalhar com uma string\n",
    "print (texto)\n",
    "\n",
    "texto = \"42\" \n",
    "print (texto)"
   ]
  },
  {
   "cell_type": "markdown",
   "metadata": {},
   "source": [
    "**Concatenando strings**  \n",
    "* Concatenar é \"colar\" uma string após a outra"
   ]
  },
  {
   "cell_type": "code",
   "execution_count": null,
   "metadata": {},
   "outputs": [],
   "source": [
    "nome = \"Maria\"\n",
    "sobrenome = \"do Carmo\"\n",
    "\n",
    "# Observe que estamos concatenando um espaço também\n",
    "nome_completo = nome + \" \" + sobrenome  \n",
    "print(nome_completo)"
   ]
  },
  {
   "cell_type": "markdown",
   "metadata": {},
   "source": [
    "**Acessando caracteres**\n",
    "* Como a string é uma sequência de caracteres, podemos acessar individualmente cada um deles\n",
    "* Em computação, toda série de dados recebe um endereço numérico, que começa em 0"
   ]
  },
  {
   "cell_type": "markdown",
   "metadata": {},
   "source": [
    "![array](img/array.gif)"
   ]
  },
  {
   "cell_type": "code",
   "execution_count": null,
   "metadata": {},
   "outputs": [],
   "source": [
    "string = \"casa\"\n",
    "\n",
    "# Colocamos entre [ ] o índice do caractere que queremos acessar\n",
    "# O que você acha que vai ser impresso?\n",
    "print(string[0])\n",
    "print(string[1])\n",
    "print(string[2])\n",
    "print(string[3])"
   ]
  },
  {
   "cell_type": "markdown",
   "metadata": {},
   "source": [
    "**Repartindo strings**  \n",
    "* Também podemos querer separar um pedaço da string\n",
    "* Para isso, precisamos dizer ao programa o intervalo da string que queremos acessar\n",
    "* Utilizamos novamente os índices para fazer isso"
   ]
  },
  {
   "cell_type": "code",
   "execution_count": null,
   "metadata": {},
   "outputs": [],
   "source": [
    "# O intervalo [0:4] significa: comece no 0, pare LOGO ANTES do índice 4\n",
    "nome_completo = \"João das Dores\"\n",
    "nome = nome_completo[0:4]\n",
    "print(nome)\n",
    "\n",
    "# Se deixarmos o segundo parâmetro em branco, o programa lerá até o final da string\n",
    "sobrenome = nome_completo[5:]\n",
    "print(sobrenome)"
   ]
  },
  {
   "cell_type": "markdown",
   "metadata": {},
   "source": [
    "<h4>Agora é sua vez!</h4>\n",
    "Escreva um programa que separe a palavra JOIO de dentro da string \"trigotrigotrigojoiotrigo\""
   ]
  },
  {
   "cell_type": "code",
   "execution_count": null,
   "metadata": {},
   "outputs": [],
   "source": [
    "texto =\"trigotrigotrigojoiotrigo\"\n",
    "\n",
    "joio = \n",
    "print (joio)\n"
   ]
  },
  {
   "cell_type": "markdown",
   "metadata": {},
   "source": [
    "<img src='http://icons.iconarchive.com/icons/icons8/windows-8/96/Numbers-4-icon.png'>"
   ]
  },
  {
   "cell_type": "markdown",
   "metadata": {},
   "source": [
    "## Recebendo informações da usuária"
   ]
  },
  {
   "cell_type": "markdown",
   "metadata": {},
   "source": [
    "**Função input( )**\n",
    "* Para nosso programa ficar mais interessante, podemos solicitar que o usuário digite as entradas do programa.\n",
    "* Para isso, usamos a função input"
   ]
  },
  {
   "cell_type": "code",
   "execution_count": null,
   "metadata": {
    "scrolled": true
   },
   "outputs": [],
   "source": [
    "# Rode esse código\n",
    "entrada = input()\n",
    "print (entrada) "
   ]
  },
  {
   "cell_type": "code",
   "execution_count": null,
   "metadata": {},
   "outputs": [],
   "source": [
    "# Também podemos colocar um texto para o usuário visualizar\n",
    "entrada = input(\"Digite um numero \")\n",
    "print (entrada) "
   ]
  },
  {
   "cell_type": "markdown",
   "metadata": {},
   "source": [
    "**Convertendo para o tipo desejado** \n",
    "* Mas temos que ter atenção! \n",
    "* A funcao input recebe o que o usuário digita e te entrega uma STRING"
   ]
  },
  {
   "cell_type": "code",
   "execution_count": null,
   "metadata": {
    "scrolled": true
   },
   "outputs": [],
   "source": [
    "# O codigo abaixo demonstra que o número recebido pela função input() \n",
    "# não armazena um número, mas sim, uma string\n",
    "\n",
    "nao_eh_numero = input(\"Digite um numero \")\n",
    "print ( type(nao_eh_numero))    # A função type verifica o tipo da variável\n",
    "\n",
    "# Quando temos funções aninhadas, a execução é de dentro pra fora\n",
    "# Primeiro, roda a função input, depois, a conversão"
   ]
  },
  {
   "cell_type": "code",
   "execution_count": null,
   "metadata": {},
   "outputs": [],
   "source": [
    "# Por isso, sempre precisamos dizer ao Python qual o tipo de dados que realmente queremos\n",
    "\n",
    "inteiro = int ( input(\"Digite um numero \") ) # Transforma em um numero inteiro\n",
    "print ( type(inteiro) )\n",
    "\n",
    "real = float ( input(\"Digite um numero \") ) # Transforma em um numero real (com casa decimal)\n",
    "print ( type(real) )\n"
   ]
  },
  {
   "cell_type": "markdown",
   "metadata": {},
   "source": [
    "**Sua vez!** \n",
    "* Vamos melhorar o programa que calcula imc"
   ]
  },
  {
   "cell_type": "code",
   "execution_count": null,
   "metadata": {},
   "outputs": [],
   "source": [
    "# Complete o código abaixo para receber a informação da usuária\n",
    "# Lembre-se de transformar a entrada em um  número real\n",
    "peso = \n",
    "altura = \n",
    "\n",
    "# Calcule e apresente o imc da usuária\n",
    "# Insira seu codigo aqui\n",
    "\n",
    "\n",
    "print(\"Seu imc é: \", imc)\n"
   ]
  },
  {
   "cell_type": "markdown",
   "metadata": {},
   "source": [
    "<img src='http://icons.iconarchive.com/icons/icons8/windows-8/96/Numbers-5-icon.png'>"
   ]
  },
  {
   "cell_type": "markdown",
   "metadata": {},
   "source": [
    "## Comandos condicionais\n",
    "* Às vezes, queremos que o nosso programa tome decisões.\n",
    "* Fazemos isso com os **comandos condicionais**.\n",
    "* O principal comando é o **if**\n",
    "* \"if\" significa \"se\", do inglês"
   ]
  },
  {
   "cell_type": "code",
   "execution_count": null,
   "metadata": {},
   "outputs": [],
   "source": [
    "# if (condicao):\n",
    "#    comando1\n",
    "#    comando2"
   ]
  },
  {
   "cell_type": "markdown",
   "metadata": {},
   "source": [
    "Em psedocódigo, seria algo como"
   ]
  },
  {
   "cell_type": "code",
   "execution_count": null,
   "metadata": {},
   "outputs": [],
   "source": [
    "# Se (isso): \n",
    "#    então aquilo"
   ]
  },
  {
   "cell_type": "markdown",
   "metadata": {},
   "source": [
    "* Precisamos dizer ao programa sob qual condição aquele bloco de código deve rodar\n",
    "* O bloco de código immediatamente abaixo do \"if\" só é executado se a resposta da condição for SIM\n",
    "* Por isso, as condições devem ser sempre **perguntas de sim ou não**\n"
   ]
  },
  {
   "cell_type": "markdown",
   "metadata": {},
   "source": [
    "**O que vai ser impresso na célula abaixo?**"
   ]
  },
  {
   "cell_type": "code",
   "execution_count": 2,
   "metadata": {},
   "outputs": [
    {
     "name": "stdout",
     "output_type": "stream",
     "text": [
      "Sim 1\n",
      "Sim 3\n",
      "Sim 5\n"
     ]
    }
   ],
   "source": [
    "if (3 < 5):        \n",
    "    print (\"Sim 1\")\n",
    "# 3 é menor do que 5?\n",
    "\n",
    "\n",
    "if(10 < 5):\n",
    "    print (\"Sim 2\")\n",
    "# 10 é menor do que 5?\n",
    "\n",
    "\n",
    "if(2 != 0):\n",
    "    print (\"Sim 3\")\n",
    "# 2 é diferente de 0?\n",
    "\n",
    "\n",
    "if(2 == 0):\n",
    "    print (\"Sim 4\")\n",
    "# 2 é diferente de 0?\n",
    "\n",
    "\n",
    "if(10+2 == 12):\n",
    "    print (\"Sim 5\")\n",
    "# 10 + 2 é exatamente igual a 12?"
   ]
  },
  {
   "cell_type": "markdown",
   "metadata": {},
   "source": [
    "**Identação**\n",
    "* Reparou que o bloco dentro do IF está levemente afastado da borda esquerda?\n",
    "* O nome disso é IDENTAÇÃO e indica para o programa a hierarquia entre as linhas de código\n",
    "* Identamos com TAB (Também é possível identar com 4 espaços). Nunca os dois juntos!"
   ]
  },
  {
   "cell_type": "markdown",
   "metadata": {},
   "source": [
    "**Tente rodar o código abaixo**"
   ]
  },
  {
   "cell_type": "code",
   "execution_count": null,
   "metadata": {},
   "outputs": [],
   "source": [
    "# Isso aqui funciona\n",
    "numero = 2\n",
    "if(numero != 0):         \n",
    "    print (\"Sim\")\n",
    "\n",
    "# Isso aqui não funciona\n",
    "if(3 != 0):\n",
    "print (\"Sim\")\n",
    "\n",
    "# Corrija o trecho de código acima para que funcione corretamente\n"
   ]
  },
  {
   "cell_type": "markdown",
   "metadata": {},
   "source": [
    "**Agora é a sua vez!**\n",
    "* Complete o código abaixo para imprimir a mensagem de forma coerente"
   ]
  },
  {
   "cell_type": "code",
   "execution_count": null,
   "metadata": {},
   "outputs": [],
   "source": [
    "saldo_conta_corrente = 1200\n",
    "saldo_conta_poupanca = 500\n",
    "\n",
    "if():\n",
    "    print(\"O saldo da poupanca é menor que o da conta corrente\")"
   ]
  },
  {
   "cell_type": "markdown",
   "metadata": {},
   "source": [
    "<img src='http://icons.iconarchive.com/icons/icons8/windows-8/96/Numbers-6-icon.png'>"
   ]
  },
  {
   "cell_type": "markdown",
   "metadata": {},
   "source": [
    "## if - else\n",
    "* Mas e se quisermos que algum codigo rode somente quando a resposta for NÃO?\n",
    "* Usamos o \"else\""
   ]
  },
  {
   "cell_type": "code",
   "execution_count": null,
   "metadata": {},
   "outputs": [],
   "source": [
    "# Em psedocódigo, seria algo como\n",
    "\n",
    "# Se (isso): \n",
    "#     então aquilo\n",
    "# Senão:\n",
    "#     então aquilo outro"
   ]
  },
  {
   "cell_type": "code",
   "execution_count": null,
   "metadata": {},
   "outputs": [],
   "source": [
    "# Observe como a dupla \"if - else\" bifurca o código, garantido que apenas um dos caminhos seja executado\n",
    "# Observe também que, para o 'else', não precisamos estabelecer uma condição. \n",
    "    #Aquele trecho de código vai rodar SEMPRE que o 'if' tiver NÃO como resposta\n",
    "\n",
    "if(2 == 0):         # 2 é exatamente igual a 0?     \n",
    "    print (\"Sim\")      # Se sim, imprime 'Sim'\n",
    "else:               # Se não,\n",
    "    print(\"Não\")       # Imprime 'Não'\n",
    "\n"
   ]
  },
  {
   "cell_type": "code",
   "execution_count": null,
   "metadata": {},
   "outputs": [],
   "source": [
    "# Exemplo\n",
    "\n",
    "numero = 75.5\n",
    "\n",
    "if(numero <= 0):                                   # A variável 'numero' guarda um valor menor que 0?\n",
    "    print(\"Você digitou um número negativo ou 0\")       # Se sim, imprime essa frase\n",
    "else:                                              # Se não,\n",
    "    print(\"Você digitou um numero positivo\")           # Imprime essa outra frase\n",
    "\n"
   ]
  },
  {
   "cell_type": "code",
   "execution_count": null,
   "metadata": {},
   "outputs": [],
   "source": [
    "# Exemplo com string\n",
    "\n",
    "local = \"trabalho\"\n",
    "\n",
    "if(local == \"casa\"):                         # a variável 'local' guarda a string \"casa\"?\n",
    "    print(\"Estou em casa\")                      # Se sim, imprime essa frase\n",
    "else:                                        # Se não,\n",
    "    print(\"Estou em qualquer outro lugar\")      # Imprime essa outra frase\n",
    "\n"
   ]
  },
  {
   "cell_type": "code",
   "execution_count": null,
   "metadata": {},
   "outputs": [],
   "source": [
    "# Podemos fazer perguntas cada vez mais elaboradas\n",
    "\n",
    "numero = 12\n",
    "\n",
    "if(numero % 3 == 0):                # O resto da divisão de 'numero' por 3 resulta em 0?\n",
    "    print(\"É divisível por 3\")          # Se sim, imprime essa frase\n",
    "else:                               # Se não,\n",
    "    print(\"Não é divisível por 3\")      # Imprime essa outra frase\n",
    "\n"
   ]
  },
  {
   "cell_type": "markdown",
   "metadata": {},
   "source": [
    "<h4>Sua vez!</h4>\n",
    "Vamos criar um programa que decide se um número é par ou ímpar\n",
    "<br>Dica: um número é par quando o resto da divisão por 2 é igual a 0"
   ]
  },
  {
   "cell_type": "code",
   "execution_count": null,
   "metadata": {},
   "outputs": [],
   "source": [
    "numero = 25\n",
    "\n",
    "if():\n",
    "    print(\"O número é par\")\n",
    "else:\n",
    "    print(\"O número é ímpar\")\n",
    "    "
   ]
  },
  {
   "cell_type": "markdown",
   "metadata": {},
   "source": [
    "<h4>Sua vez!</h4>\n",
    "Temos um quantidade de balinhas e queremos dividir entre as crianças.\n",
    "Vamos fazer um programinha que decide se é possível fazer uma divisão igual sem sobrar balas (ou seja, a divisão deve ter resto 0). Nao podemos quebrar as balinhas"
   ]
  },
  {
   "cell_type": "code",
   "execution_count": null,
   "metadata": {},
   "outputs": [],
   "source": [
    "# O que esse trecho de código faz?\n",
    "criancas = int ( input(\"Quantas criancas? \") )\n",
    "balinhas = int ( input(\"Quantas balinhas? \") )\n",
    "\n",
    "# complete a linha de código abaixo\n",
    "divisao = \n",
    "print (divisao)\n",
    "\n",
    "# Preencha uma condição que retorne SIM como resposta\n",
    "if():\n",
    "    print(\"É possivel dividir as balinhas =)\")\n",
    "else:\n",
    "    print (\"Não é possível =(\")\n"
   ]
  },
  {
   "cell_type": "markdown",
   "metadata": {},
   "source": [
    "<img src='http://icons.iconarchive.com/icons/icons8/windows-8/96/Numbers-7-icon.png'>"
   ]
  },
  {
   "cell_type": "markdown",
   "metadata": {},
   "source": [
    "## elif: testando mais de duas condições\n",
    "* Quando queremos testar mais do que duas condições, vamos utilizar o \"elif\"\n",
    "* \"elif\" é um diminutivo para \"else, if\""
   ]
  },
  {
   "cell_type": "code",
   "execution_count": null,
   "metadata": {},
   "outputs": [],
   "source": [
    "# Observe como o elif vários cria caminhos possíveis. Apenas um desses caminhos será executado\n",
    "\n",
    "\n",
    "numero = -25\n",
    "\n",
    "if(numero < 0):                                                  # 'numero' é menor que 0?\n",
    "    print(\"Você digitou um número negativo\")                          # se sim, imprima isso\n",
    "elif(numero == 0):                                               # Se não, 'numero' é exatamente igual a 0?\n",
    "    print(\"Você digitou 0, que não é positivo nem negativo\")          #  se sim, imprima isso\n",
    "else:                                                            # Se não,\n",
    "    print(\"Você digitou um numero positivo ou 0\")                     # imprima isso\n",
    "    "
   ]
  },
  {
   "cell_type": "code",
   "execution_count": null,
   "metadata": {},
   "outputs": [],
   "source": [
    "# Você pode criar quantos caminhos alternativos forem necessários\n",
    "\n",
    "idade = 24\n",
    "\n",
    "if(idade <=17):                      # 'idade' é menor ou igual a 17?\n",
    "    print(\"Menor de idade\")              # se sim, imprima isso\n",
    "elif(idade > 17 and idade <= 24):    # Se não, 'idade' é maior que 17 E menor ou igual a 24?\n",
    "    print(\"Jovem adulto\")                # se sim, imprima isso\n",
    "elif(idade > 24 and idade <= 59):    # Se não, idade é maio que 24 E menor ou igual a 59?\n",
    "    print(\"Adulto\")                      # se sim, imprima isso\n",
    "elif(idade > 59):                    # Se não, 'idade' é maior que 59?\n",
    "    print(\"Idoso\")                       # se sim, imprima isso\n",
    "    "
   ]
  },
  {
   "cell_type": "code",
   "execution_count": null,
   "metadata": {},
   "outputs": [],
   "source": [
    "# RESUMO DAS PERGUNTAS LÓGICAS\n",
    "# == : é exatamente igual?\n",
    "# != : é diferente?\n",
    "# >  : é maior que?\n",
    "# <  : é menor que?\n",
    "# >= : é maior ou igual?\n",
    "# <= : é menor ou igual?\n",
    "# and: E (Atende às duas condições ao mesmo tempo?)\n",
    "# or : OU (Atende a pelo menos uma das condições?)"
   ]
  },
  {
   "cell_type": "markdown",
   "metadata": {},
   "source": [
    "<h4> Agora é sua vez!</h4>\n",
    "Crie um programa que leia um salário e retorne a faixa de imposto que ela irá pagar\n",
    "<br>Faixas de imposto:\n",
    "<ul>\n",
    "<li>Salário menor ou igual a 1000.00: \"Imposto de 10%\"\n",
    "<li>Salário mair do que 1000.00 E menor ou igual a  12000.00: \"Imposto de 20%\"\n",
    "<li>Salário maior do que 12000.00: \"Imposto de 30%\"\n",
    "</ul>"
   ]
  },
  {
   "cell_type": "markdown",
   "metadata": {},
   "source": [
    "** PAUSA **"
   ]
  },
  {
   "cell_type": "markdown",
   "metadata": {},
   "source": [
    "# Escreva seu código aqui\n",
    "\n",
    "\n",
    "\n",
    "\n",
    "\n",
    "\n",
    "\n",
    "\n",
    "\n"
   ]
  },
  {
   "cell_type": "markdown",
   "metadata": {},
   "source": [
    "<img src='http://icons.iconarchive.com/icons/icons8/windows-8/96/Numbers-8-icon.png'>"
   ]
  },
  {
   "cell_type": "markdown",
   "metadata": {},
   "source": [
    "## Listas: Um jeito melhor de guardar dados na memória</h2>"
   ]
  },
  {
   "cell_type": "markdown",
   "metadata": {},
   "source": [
    "* Imagine um programa realmente grande. \n",
    "* É inviável criarmos uma variável para cada informação que precisarmos em um programa. \n",
    "* Por isso, existem formas de agrupar os dados. \n",
    "* A principal forma de agruparmos dados em Python são as listas. \n",
    "* Listas são declaradas exatamente como variáveis, mas admitem guardar tantos elementos quantos você queira"
   ]
  },
  {
   "cell_type": "code",
   "execution_count": null,
   "metadata": {},
   "outputs": [],
   "source": [
    "dia = ['Segunda', 'Terça', 'Quarta', 'Quinta', 'Sexta', 'Sábado', 'Domingo']\n",
    "\n",
    "# Todos os dados têm o mesmo nome: dia.\n",
    "# Da mesma forma que vimos com strings, cada dado tem um endereço que começa com 0\n",
    "\n",
    "# Utilize o espaço abaixo para imprimir na tela o seu dia favorito da semana\n",
    "\n",
    "\n",
    "\n",
    "\n",
    "\n",
    "\n",
    "\n",
    "\n"
   ]
  },
  {
   "cell_type": "markdown",
   "metadata": {},
   "source": [
    "<h4>Acrescentando e removendo itens na sua lista</h4>\n",
    "É muito comum precisarmos realizar alterações no nosso programa. Por exemplo: se ficasse decidido que o final de semana agora terá 3 dias! Precisamos incluir esse dia na nossa lista."
   ]
  },
  {
   "cell_type": "code",
   "execution_count": null,
   "metadata": {},
   "outputs": [],
   "source": [
    "# O comando 'append' inclui itens ao final da nossa lista\n",
    "# Para utilizá-lo, escrevemos: nomeLista.append()\n",
    "\n",
    "dia = [\"Segunda\", \"Terça\", \"Quarta\", \"Quinta\", \"Sexta\", \"Sábado\", \"Domingo\"]\n",
    "print(dia)\n",
    "\n",
    "dia.append('Domingaço')\n",
    "print(dia)"
   ]
  },
  {
   "cell_type": "code",
   "execution_count": null,
   "metadata": {},
   "outputs": [],
   "source": [
    "# Para melhorar ainda mais a nossa vida, revogaram a segunda!\n",
    "# Para atualizar nosso programa, vamos usar o comando 'remove'\n",
    "\n",
    "dia.remove(\"Segunda\")\n",
    "print(dia)"
   ]
  },
  {
   "cell_type": "code",
   "execution_count": null,
   "metadata": {},
   "outputs": [],
   "source": [
    "# O comando 'append' insere itens ao final da lista\n",
    "# Para inserir um item em qualquer posição, usamos o 'insert'\n",
    "# Vamos re-colocar a segunda\n",
    "\n",
    "dia.insert(0, \"Segunda\")  # Insere na posição 0\n",
    "print(dia)"
   ]
  },
  {
   "cell_type": "markdown",
   "metadata": {},
   "source": [
    "<h4>Sua Vez!</h4>\n",
    "Crie uma lista com os nomes das pessoas da sua família\n",
    "<br> Alguém vai ter neném! Insira na lista o nome da nova criança em qualquer posição que você desejar\n",
    "<br>Imprima a lista"
   ]
  },
  {
   "cell_type": "code",
   "execution_count": null,
   "metadata": {},
   "outputs": [],
   "source": [
    "# Insira seu código aqui\n",
    "\n",
    "\n",
    "\n",
    "\n",
    "\n",
    "\n",
    "\n"
   ]
  },
  {
   "cell_type": "markdown",
   "metadata": {},
   "source": [
    "<img src='http://icons.iconarchive.com/icons/icons8/windows-8/96/Numbers-9-icon.png'>"
   ]
  },
  {
   "cell_type": "markdown",
   "metadata": {},
   "source": [
    "## Comandos de Repetição"
   ]
  },
  {
   "cell_type": "markdown",
   "metadata": {},
   "source": [
    "* Um dos comandos que mais facilitam nossa vida são os comandos de repetição\n",
    "* Eles fazem com que um trecho de código seja repetido quantas vezes desejarmos\n",
    "* O principal comando em quase todas as linguagens é o \"for\", do inglês, \"para\""
   ]
  },
  {
   "cell_type": "code",
   "execution_count": null,
   "metadata": {},
   "outputs": [],
   "source": [
    "fruta = ['Maçã', 'Limão', 'Laranja']\n",
    "\n",
    "for item in fruta:\n",
    "    print(item)"
   ]
  },
  {
   "cell_type": "code",
   "execution_count": 1,
   "metadata": {},
   "outputs": [],
   "source": [
    "# O que está acontecendo no código acima é o seguinte:\n",
    "# PARA cada item da lista fruta\n",
    "    # A variável 'item' recebe o dado e o imprime\n",
    "\n",
    "# Quando a lista acaba, o laço de repetição termina"
   ]
  },
  {
   "cell_type": "code",
   "execution_count": null,
   "metadata": {},
   "outputs": [],
   "source": [
    "# Mas poderíamos ter imprimido a lista sem o FOR, concorda?\n",
    "# Vamos fazer algo mais interessante\n",
    "\n",
    "lista = [1, 2, 3, 4, 5, 6]\n",
    "\n",
    "for item in lista:\n",
    "    print(item+10)\n",
    "    "
   ]
  },
  {
   "cell_type": "code",
   "execution_count": null,
   "metadata": {},
   "outputs": [],
   "source": [
    "# O laço FOR também sabe trabalhar com uma sequência númerica que não esteja em uma lista\n",
    "# Nesse caso, precisamos dizer onde começa e onde terminar o intervalo de números\n",
    "\n",
    "for i in range(1, 6):\n",
    "    print(i)"
   ]
  },
  {
   "cell_type": "code",
   "execution_count": null,
   "metadata": {},
   "outputs": [],
   "source": [
    "# Observe que o número 6 não entra no laço. \n",
    "# O segundo número representa a CONDIÇÃO DE PARADA DO LAÇO\n",
    "# Assim que a variável 'i' assume o valor de 6, o laço não executa e termina"
   ]
  },
  {
   "cell_type": "markdown",
   "metadata": {},
   "source": [
    "<h4>Sua vez!</h4>\n",
    "Crie um programa que imprima na tela todos os números de 1 até 100"
   ]
  },
  {
   "cell_type": "code",
   "execution_count": null,
   "metadata": {},
   "outputs": [],
   "source": [
    "# Escreva seu código aqui\n",
    "\n",
    "\n",
    "\n",
    "\n"
   ]
  },
  {
   "cell_type": "markdown",
   "metadata": {},
   "source": [
    "**Preenchendo uma lista com um laço FOR**\n",
    "* O mais legal de laços de repetição é poder preencher uma lista a partir do input da usuária\n",
    "* Veja abaixo um programa que recebe as notas dos alunos de uma turma de 5 pessoas\n",
    "* Como todos os inputs recebidos são notas, é adequado guardar em uma mesma lista, concorda?"
   ]
  },
  {
   "cell_type": "code",
   "execution_count": null,
   "metadata": {},
   "outputs": [],
   "source": [
    "# Criamos uma lista vazia\n",
    "notas = []   \n",
    "\n",
    "# Laço de repetição para preencher a lista\n",
    "for i in range(1, 6):\n",
    "    print(\"Digite a nota do aluno \", i)\n",
    "    notas.append( float(input()) )      # Recebe o input, converte em float(número com casa decimal), insere ao final da lista\n",
    "\n",
    "print (notas)"
   ]
  },
  {
   "cell_type": "markdown",
   "metadata": {},
   "source": [
    "<h4>Sua vez!</h4>\n",
    "Para entender o que aconteceu no código acima, reescreva o código na célula abaixo, mas dessa vez, peça para a usuária digitar 7 números"
   ]
  },
  {
   "cell_type": "code",
   "execution_count": null,
   "metadata": {},
   "outputs": [],
   "source": [
    "# Escreva seu código aqui\n",
    "\n",
    "\n",
    "\n",
    "\n",
    "\n",
    "\n",
    "\n",
    "\n",
    "\n",
    "\n"
   ]
  },
  {
   "cell_type": "markdown",
   "metadata": {},
   "source": [
    "<img src='http://icons.iconarchive.com/icons/icons8/windows-8/96/Numbers-1-icon.png'>\n",
    "<img src='http://icons.iconarchive.com/icons/icons8/windows-8/96/Numbers-0-icon.png'>"
   ]
  },
  {
   "cell_type": "markdown",
   "metadata": {},
   "source": [
    "## Exercícios"
   ]
  },
  {
   "cell_type": "markdown",
   "metadata": {},
   "source": [
    "1) Calcule o perímetro de uma circunferência a partir de seu raio. Lembrando que:\n",
    "$${perimetro = 3.14 *raio^2}$$\n"
   ]
  },
  {
   "cell_type": "code",
   "execution_count": null,
   "metadata": {},
   "outputs": [],
   "source": [
    "\n",
    "\n",
    "\n",
    "\n",
    "\n",
    "\n",
    "\n",
    "\n",
    "\n",
    "\n",
    "\n"
   ]
  },
  {
   "cell_type": "markdown",
   "metadata": {},
   "source": [
    "2) Receba três valores inteiros. Calcule e imprima a média dos valores"
   ]
  },
  {
   "cell_type": "code",
   "execution_count": null,
   "metadata": {},
   "outputs": [],
   "source": [
    "\n",
    "\n",
    "\n",
    "\n",
    "\n",
    "\n",
    "\n",
    "\n",
    "\n",
    "\n",
    "\n"
   ]
  },
  {
   "cell_type": "markdown",
   "metadata": {},
   "source": [
    "3) Receba dois valores inteiros. Imprima o maior deles"
   ]
  },
  {
   "cell_type": "code",
   "execution_count": null,
   "metadata": {},
   "outputs": [],
   "source": [
    "\n",
    "\n",
    "\n",
    "\n",
    "\n",
    "\n",
    "\n",
    "\n",
    "\n",
    "\n",
    "\n",
    "\n",
    "\n"
   ]
  },
  {
   "cell_type": "markdown",
   "metadata": {},
   "source": [
    "4) Crie uma lista vazia\n",
    "<br>Utilize um laço FOR para receber cinco valores do tipo inteiro. \n",
    "<br>Imprima a lista\n",
    "<br>Utilize a funcionalidade lista.sort() que ordena os valores\n",
    "<br>Imprima a lista ordenada"
   ]
  },
  {
   "cell_type": "code",
   "execution_count": null,
   "metadata": {},
   "outputs": [],
   "source": [
    "lista = []\n",
    "\n",
    "\n",
    "\n",
    "\n",
    "\n",
    "\n",
    "\n",
    "\n"
   ]
  },
  {
   "cell_type": "markdown",
   "metadata": {},
   "source": [
    "5) Aproveite o código anterior para criar uma lista vazia e receber cinco valores inteiros.\n",
    "<br>Agora utilize um laço FOR para percorrer a lista e fazer o seguinte:\n",
    "<br>SE o o número for par, imprima o número na tela\n",
    "<br>Caso contrário, não faça nada"
   ]
  },
  {
   "cell_type": "code",
   "execution_count": null,
   "metadata": {},
   "outputs": [],
   "source": [
    "\n",
    "\n",
    "\n",
    "\n",
    "\n",
    "\n",
    "\n"
   ]
  },
  {
   "cell_type": "markdown",
   "metadata": {},
   "source": [
    "<img src='data:image/jpeg;base64,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'>"
   ]
  },
  {
   "cell_type": "markdown",
   "metadata": {},
   "source": [
    "# Parabéns! Você completou o Módulo 1 \\o/ \\o/ \\o/\n",
    "\n",
    "Esperamos de coração que você tenha gostado do seu primeiro contato com programação. A equipe do Girl Support Girl está disponível para tirar dúvidas e indicar caminhos para aprendizado contínuo.\n",
    "<br>\n",
    "<h4>Ser boa em programação significa</h4>\n",
    "<ol>\n",
    "<li> Conhecer as ferramentas que a linguagem te oferece \n",
    "<li> Utilizar essas ferramentas para resolver problemas lógicos\n",
    "<li> Não parar porque não sabe resolver um problema. Não se conforme e busque respostas\n",
    "</ol>\n",
    "<h4>Onde buscar respostas</h4>\n",
    "<ul>\n",
    "<li>Na internet: fóruns como StackOverflow são fundamentais para quem programa\n",
    "<li>Na sua rede: Procure as pessoas que podem te ajudar. Nunca tenha vergonha de perguntar\n",
    "<li>Em livros e documentações oficiais das tecnologias que você está aprendendo\n",
    "</ul>\n",
    "\n",
    "<h4>Nos vemos no módulo 2!</h4>"
   ]
  },
  {
   "cell_type": "markdown",
   "metadata": {},
   "source": [
    "Esse curso é uma iniciativa da Girls Support Girls, uma comunidade iniciada por mulheres dos cursos de computação da UFMG.   \n",
    "[site do GSG]\n",
    "\n"
   ]
  }
 ],
 "metadata": {
  "kernelspec": {
   "display_name": "Python 3",
   "language": "python",
   "name": "python3"
  },
  "language_info": {
   "codemirror_mode": {
    "name": "ipython",
    "version": 3
   },
   "file_extension": ".py",
   "mimetype": "text/x-python",
   "name": "python",
   "nbconvert_exporter": "python",
   "pygments_lexer": "ipython3",
   "version": "3.7.4"
  }
 },
 "nbformat": 4,
 "nbformat_minor": 4
}
